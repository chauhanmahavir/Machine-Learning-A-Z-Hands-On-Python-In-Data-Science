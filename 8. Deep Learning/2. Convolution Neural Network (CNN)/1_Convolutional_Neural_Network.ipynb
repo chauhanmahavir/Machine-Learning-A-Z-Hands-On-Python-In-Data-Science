{
 "cells": [
  {
   "cell_type": "markdown",
   "metadata": {
    "colab_type": "text",
    "id": "3DR-eO17geWu"
   },
   "source": [
    "# Convolutional Neural Network"
   ]
  },
  {
   "cell_type": "markdown",
   "metadata": {
    "colab_type": "text",
    "id": "EMefrVPCg-60"
   },
   "source": [
    "### Importing the libraries"
   ]
  },
  {
   "cell_type": "code",
   "execution_count": 1,
   "metadata": {
    "colab": {},
    "colab_type": "code",
    "id": "sCV30xyVhFbE"
   },
   "outputs": [
    {
     "name": "stderr",
     "output_type": "stream",
     "text": [
      "Using TensorFlow backend.\n"
     ]
    }
   ],
   "source": [
    "import tensorflow as tf\n",
    "from keras.preprocessing.image import ImageDataGenerator"
   ]
  },
  {
   "cell_type": "code",
   "execution_count": 2,
   "metadata": {
    "colab": {},
    "colab_type": "code",
    "id": "FIleuCAjoFD8"
   },
   "outputs": [
    {
     "data": {
      "text/plain": [
       "'1.13.1'"
      ]
     },
     "execution_count": 2,
     "metadata": {},
     "output_type": "execute_result"
    }
   ],
   "source": [
    "tf.__version__"
   ]
  },
  {
   "cell_type": "markdown",
   "metadata": {
    "colab_type": "text",
    "id": "oxQxCBWyoGPE"
   },
   "source": [
    "## Part 1 - Data Preprocessing"
   ]
  },
  {
   "cell_type": "markdown",
   "metadata": {
    "colab_type": "text",
    "id": "MvE-heJNo3GG"
   },
   "source": [
    "### Preprocessing the Training set"
   ]
  },
  {
   "cell_type": "code",
   "execution_count": 3,
   "metadata": {
    "colab": {},
    "colab_type": "code",
    "id": "0koUcJMJpEBD"
   },
   "outputs": [
    {
     "name": "stdout",
     "output_type": "stream",
     "text": [
      "Found 8000 images belonging to 2 classes.\n"
     ]
    }
   ],
   "source": [
    "Download Dataset - https://drive.google.com/file/d/142aifoQY8nrUhwH89RcVnSvTzIFQRyoA/view\n"
    "train_datagen = ImageDataGenerator(rescale = 1./255,\n",
    "                                   shear_range = 0.2,\n",
    "                                   zoom_range = 0.2,\n",
    "                                   horizontal_flip = True)\n",
    "training_set = train_datagen.flow_from_directory('dataset/training_set',\n",
    "                                                 target_size = (64, 64),\n",
    "                                                 batch_size = 32,\n",
    "                                                 class_mode = 'binary')"
   ]
  },
  {
   "cell_type": "markdown",
   "metadata": {
    "colab_type": "text",
    "id": "mrCMmGw9pHys"
   },
   "source": [
    "### Preprocessing the Test set"
   ]
  },
  {
   "cell_type": "code",
   "execution_count": 4,
   "metadata": {
    "colab": {},
    "colab_type": "code",
    "id": "SH4WzfOhpKc3"
   },
   "outputs": [
    {
     "name": "stdout",
     "output_type": "stream",
     "text": [
      "Found 2000 images belonging to 2 classes.\n"
     ]
    }
   ],
   "source": [
    "test_datagen = ImageDataGenerator(rescale = 1./255)\n",
    "test_set = test_datagen.flow_from_directory('dataset/test_set',\n",
    "                                            target_size = (64, 64),\n",
    "                                            batch_size = 32,\n",
    "                                            class_mode = 'binary')"
   ]
  },
  {
   "cell_type": "markdown",
   "metadata": {
    "colab_type": "text",
    "id": "af8O4l90gk7B"
   },
   "source": [
    "## Part 2 - Building the CNN"
   ]
  },
  {
   "cell_type": "markdown",
   "metadata": {
    "colab_type": "text",
    "id": "ces1gXY2lmoX"
   },
   "source": [
    "### Initialising the CNN"
   ]
  },
  {
   "cell_type": "code",
   "execution_count": 5,
   "metadata": {
    "colab": {},
    "colab_type": "code",
    "id": "SAUt4UMPlhLS"
   },
   "outputs": [],
   "source": [
    "cnn = tf.keras.models.Sequential()"
   ]
  },
  {
   "cell_type": "markdown",
   "metadata": {
    "colab_type": "text",
    "id": "u5YJj_XMl5LF"
   },
   "source": [
    "### Step 1 - Convolution"
   ]
  },
  {
   "cell_type": "code",
   "execution_count": 6,
   "metadata": {
    "colab": {},
    "colab_type": "code",
    "id": "XPzPrMckl-hV"
   },
   "outputs": [
    {
     "name": "stdout",
     "output_type": "stream",
     "text": [
      "WARNING:tensorflow:From d:\\python\\lib\\site-packages\\tensorflow\\python\\ops\\resource_variable_ops.py:435: colocate_with (from tensorflow.python.framework.ops) is deprecated and will be removed in a future version.\n",
      "Instructions for updating:\n",
      "Colocations handled automatically by placer.\n"
     ]
    }
   ],
   "source": [
    "cnn.add(tf.keras.layers.Conv2D(filters=32, kernel_size=3, activation='relu', input_shape=[64, 64, 3]))"
   ]
  },
  {
   "cell_type": "markdown",
   "metadata": {
    "colab_type": "text",
    "id": "tf87FpvxmNOJ"
   },
   "source": [
    "### Step 2 - Pooling"
   ]
  },
  {
   "cell_type": "code",
   "execution_count": 7,
   "metadata": {
    "colab": {},
    "colab_type": "code",
    "id": "ncpqPl69mOac"
   },
   "outputs": [],
   "source": [
    "cnn.add(tf.keras.layers.MaxPool2D(pool_size=2, strides=2))"
   ]
  },
  {
   "cell_type": "markdown",
   "metadata": {
    "colab_type": "text",
    "id": "xaTOgD8rm4mU"
   },
   "source": [
    "### Adding a second convolutional layer"
   ]
  },
  {
   "cell_type": "code",
   "execution_count": 8,
   "metadata": {
    "colab": {},
    "colab_type": "code",
    "id": "i_-FZjn_m8gk"
   },
   "outputs": [],
   "source": [
    "cnn.add(tf.keras.layers.Conv2D(filters=32, kernel_size=3, activation='relu'))\n",
    "cnn.add(tf.keras.layers.MaxPool2D(pool_size=2, strides=2))"
   ]
  },
  {
   "cell_type": "markdown",
   "metadata": {
    "colab_type": "text",
    "id": "tmiEuvTunKfk"
   },
   "source": [
    "### Step 3 - Flattening"
   ]
  },
  {
   "cell_type": "code",
   "execution_count": 9,
   "metadata": {
    "colab": {},
    "colab_type": "code",
    "id": "6AZeOGCvnNZn"
   },
   "outputs": [],
   "source": [
    "cnn.add(tf.keras.layers.Flatten())"
   ]
  },
  {
   "cell_type": "markdown",
   "metadata": {
    "colab_type": "text",
    "id": "dAoSECOm203v"
   },
   "source": [
    "### Step 4 - Full Connection"
   ]
  },
  {
   "cell_type": "code",
   "execution_count": 10,
   "metadata": {
    "colab": {},
    "colab_type": "code",
    "id": "8GtmUlLd26Nq"
   },
   "outputs": [],
   "source": [
    "cnn.add(tf.keras.layers.Dense(units=128, activation='relu'))"
   ]
  },
  {
   "cell_type": "markdown",
   "metadata": {
    "colab_type": "text",
    "id": "yTldFvbX28Na"
   },
   "source": [
    "### Step 5 - Output Layer"
   ]
  },
  {
   "cell_type": "code",
   "execution_count": 11,
   "metadata": {
    "colab": {},
    "colab_type": "code",
    "id": "1p_Zj1Mc3Ko_"
   },
   "outputs": [],
   "source": [
    "cnn.add(tf.keras.layers.Dense(units=1, activation='sigmoid'))"
   ]
  },
  {
   "cell_type": "markdown",
   "metadata": {
    "colab_type": "text",
    "id": "D6XkI90snSDl"
   },
   "source": [
    "## Part 3 - Training the CNN"
   ]
  },
  {
   "cell_type": "markdown",
   "metadata": {
    "colab_type": "text",
    "id": "vfrFQACEnc6i"
   },
   "source": [
    "### Compiling the CNN"
   ]
  },
  {
   "cell_type": "code",
   "execution_count": 12,
   "metadata": {
    "colab": {},
    "colab_type": "code",
    "id": "NALksrNQpUlJ"
   },
   "outputs": [],
   "source": [
    "cnn.compile(optimizer = 'adam', loss = 'binary_crossentropy', metrics = ['accuracy'])"
   ]
  },
  {
   "cell_type": "markdown",
   "metadata": {
    "colab_type": "text",
    "id": "ehS-v3MIpX2h"
   },
   "source": [
    "### Training the CNN on the Training set and evaluating it on the Test set"
   ]
  },
  {
   "cell_type": "code",
   "execution_count": 13,
   "metadata": {
    "colab": {},
    "colab_type": "code",
    "id": "XUj1W4PJptta"
   },
   "outputs": [
    {
     "name": "stdout",
     "output_type": "stream",
     "text": [
      "WARNING:tensorflow:From d:\\python\\lib\\site-packages\\tensorflow\\python\\ops\\math_ops.py:3066: to_int32 (from tensorflow.python.ops.math_ops) is deprecated and will be removed in a future version.\n",
      "Instructions for updating:\n",
      "Use tf.cast instead.\n",
      "Epoch 1/25\n",
      "63/63 [==============================] - 17s 269ms/step - loss: 0.6645 - acc: 0.5830\n",
      "250/250 [==============================] - 140s 561ms/step - loss: 0.6869 - acc: 0.5554 - val_loss: 0.6645 - val_acc: 0.5830\n",
      "Epoch 2/25\n",
      "63/63 [==============================] - 5s 86ms/step - loss: 0.5993 - acc: 0.6880\n",
      "250/250 [==============================] - 43s 172ms/step - loss: 0.6438 - acc: 0.6339 - val_loss: 0.5993 - val_acc: 0.6880\n",
      "Epoch 3/25\n",
      "63/63 [==============================] - 5s 83ms/step - loss: 0.5768 - acc: 0.7095\n",
      "250/250 [==============================] - 43s 172ms/step - loss: 0.6094 - acc: 0.6735 - val_loss: 0.5768 - val_acc: 0.7095\n",
      "Epoch 4/25\n",
      "63/63 [==============================] - 6s 88ms/step - loss: 0.5744 - acc: 0.7070\n",
      "250/250 [==============================] - 43s 173ms/step - loss: 0.5657 - acc: 0.7101 - val_loss: 0.5744 - val_acc: 0.7070\n",
      "Epoch 5/25\n",
      "63/63 [==============================] - 6s 88ms/step - loss: 0.5219 - acc: 0.7455\n",
      "250/250 [==============================] - 43s 173ms/step - loss: 0.5329 - acc: 0.7326 - val_loss: 0.5219 - val_acc: 0.7455\n",
      "Epoch 6/25\n",
      "63/63 [==============================] - 6s 88ms/step - loss: 0.5654 - acc: 0.7175\n",
      "250/250 [==============================] - 43s 173ms/step - loss: 0.5071 - acc: 0.7500 - val_loss: 0.5654 - val_acc: 0.7175\n",
      "Epoch 7/25\n",
      "63/63 [==============================] - 5s 87ms/step - loss: 0.5161 - acc: 0.7515\n",
      "250/250 [==============================] - 43s 174ms/step - loss: 0.4827 - acc: 0.7641 - val_loss: 0.5161 - val_acc: 0.7515\n",
      "Epoch 8/25\n",
      "63/63 [==============================] - 6s 88ms/step - loss: 0.4741 - acc: 0.7825\n",
      "250/250 [==============================] - 44s 176ms/step - loss: 0.4713 - acc: 0.7739 - val_loss: 0.4741 - val_acc: 0.7825\n",
      "Epoch 9/25\n",
      "63/63 [==============================] - 5s 86ms/step - loss: 0.4567 - acc: 0.7835\n",
      "250/250 [==============================] - 43s 173ms/step - loss: 0.4417 - acc: 0.7935 - val_loss: 0.4567 - val_acc: 0.7835\n",
      "Epoch 10/25\n",
      "63/63 [==============================] - 5s 85ms/step - loss: 0.4868 - acc: 0.7755\n",
      "250/250 [==============================] - 43s 171ms/step - loss: 0.4309 - acc: 0.7969 - val_loss: 0.4868 - val_acc: 0.7755\n",
      "Epoch 11/25\n",
      "63/63 [==============================] - 4s 69ms/step - loss: 0.4581 - acc: 0.7935\n",
      "250/250 [==============================] - 41s 163ms/step - loss: 0.4193 - acc: 0.8080 - val_loss: 0.4581 - val_acc: 0.7935\n",
      "Epoch 12/25\n",
      "63/63 [==============================] - 5s 84ms/step - loss: 0.4702 - acc: 0.7865\n",
      "250/250 [==============================] - 42s 167ms/step - loss: 0.3991 - acc: 0.8161 - val_loss: 0.4702 - val_acc: 0.7865\n",
      "Epoch 13/25\n",
      "63/63 [==============================] - 5s 85ms/step - loss: 0.4836 - acc: 0.7840\n",
      "250/250 [==============================] - 42s 168ms/step - loss: 0.3798 - acc: 0.8281 - val_loss: 0.4836 - val_acc: 0.7840\n",
      "Epoch 14/25\n",
      "63/63 [==============================] - 6s 88ms/step - loss: 0.4637 - acc: 0.7905\n",
      "250/250 [==============================] - 42s 169ms/step - loss: 0.3698 - acc: 0.8295 - val_loss: 0.4637 - val_acc: 0.7905\n",
      "Epoch 15/25\n",
      "63/63 [==============================] - 5s 85ms/step - loss: 0.4728 - acc: 0.7935\n",
      "250/250 [==============================] - 42s 166ms/step - loss: 0.3478 - acc: 0.8471 - val_loss: 0.4728 - val_acc: 0.7935\n",
      "Epoch 16/25\n",
      "63/63 [==============================] - 5s 86ms/step - loss: 0.5116 - acc: 0.7865\n",
      "250/250 [==============================] - 42s 169ms/step - loss: 0.3367 - acc: 0.8485 - val_loss: 0.5116 - val_acc: 0.7865\n",
      "Epoch 17/25\n",
      "63/63 [==============================] - 4s 58ms/step - loss: 0.4964 - acc: 0.7940: 2s - l\n",
      "250/250 [==============================] - 38s 153ms/step - loss: 0.3149 - acc: 0.8648 - val_loss: 0.4964 - val_acc: 0.7940\n",
      "Epoch 18/25\n",
      "63/63 [==============================] - 4s 62ms/step - loss: 0.4837 - acc: 0.8030\n",
      "250/250 [==============================] - 27s 109ms/step - loss: 0.3048 - acc: 0.8636 - val_loss: 0.4837 - val_acc: 0.8030\n",
      "Epoch 19/25\n",
      "63/63 [==============================] - 3s 52ms/step - loss: 0.5361 - acc: 0.7830\n",
      "250/250 [==============================] - 27s 106ms/step - loss: 0.2824 - acc: 0.8808 - val_loss: 0.5361 - val_acc: 0.7830\n",
      "Epoch 20/25\n",
      "63/63 [==============================] - 3s 51ms/step - loss: 0.5153 - acc: 0.7950\n",
      "250/250 [==============================] - 26s 102ms/step - loss: 0.2731 - acc: 0.8845 - val_loss: 0.5153 - val_acc: 0.7950\n",
      "Epoch 21/25\n",
      "63/63 [==============================] - 3s 54ms/step - loss: 0.5713 - acc: 0.7910TA: 1s - loss\n",
      "250/250 [==============================] - 26s 103ms/step - loss: 0.2534 - acc: 0.8924 - val_loss: 0.5713 - val_acc: 0.7910\n",
      "Epoch 22/25\n",
      "63/63 [==============================] - 3s 53ms/step - loss: 0.5137 - acc: 0.7925: 3\n",
      "250/250 [==============================] - 26s 105ms/step - loss: 0.2469 - acc: 0.8957 - val_loss: 0.5137 - val_acc: 0.7925\n",
      "Epoch 23/25\n",
      "63/63 [==============================] - 3s 51ms/step - loss: 0.5545 - acc: 0.7805\n",
      "250/250 [==============================] - 26s 103ms/step - loss: 0.2297 - acc: 0.9061 - val_loss: 0.5545 - val_acc: 0.7805\n",
      "Epoch 24/25\n",
      "63/63 [==============================] - 3s 51ms/step - loss: 0.5574 - acc: 0.7915\n",
      "250/250 [==============================] - 26s 103ms/step - loss: 0.2181 - acc: 0.9079 - val_loss: 0.5574 - val_acc: 0.7915\n",
      "Epoch 25/25\n",
      "63/63 [==============================] - 3s 55ms/step - loss: 0.5601 - acc: 0.7830\n",
      "250/250 [==============================] - 27s 107ms/step - loss: 0.2029 - acc: 0.9179 - val_loss: 0.5601 - val_acc: 0.7830\n"
     ]
    },
    {
     "data": {
      "text/plain": [
       "<tensorflow.python.keras.callbacks.History at 0x27db2a7af98>"
      ]
     },
     "execution_count": 13,
     "metadata": {},
     "output_type": "execute_result"
    }
   ],
   "source": [
    "cnn.fit(x = training_set, validation_data = test_set, epochs = 25)"
   ]
  },
  {
   "cell_type": "markdown",
   "metadata": {
    "colab_type": "text",
    "id": "U3PZasO0006Z"
   },
   "source": [
    "## Part 4 - Making a single prediction"
   ]
  },
  {
   "cell_type": "code",
   "execution_count": 16,
   "metadata": {
    "colab": {},
    "colab_type": "code",
    "id": "gsSiWEJY1BPB"
   },
   "outputs": [],
   "source": [
    "import numpy as np\n",
    "from keras.preprocessing import image\n",
    "test_image = image.load_img('dataset/single_prediction/cat_or_dog_1.jpg', target_size = (64, 64))\n",
    "test_image = image.img_to_array(test_image)\n",
    "test_image = np.expand_dims(test_image, axis = 0)\n",
    "result = cnn.predict(test_image)\n",
    "training_set.class_indices\n",
    "if result[0][0] == 1:\n",
    "    prediction = 'dog'\n",
    "else:\n",
    "    prediction = 'cat'"
   ]
  },
  {
   "cell_type": "code",
   "execution_count": 17,
   "metadata": {
    "colab": {},
    "colab_type": "code",
    "id": "ED9KB3I54c1i"
   },
   "outputs": [
    {
     "name": "stdout",
     "output_type": "stream",
     "text": [
      "dog\n"
     ]
    }
   ],
   "source": [
    "print(prediction)"
   ]
  },
  {
   "cell_type": "code",
   "execution_count": null,
   "metadata": {},
   "outputs": [],
   "source": []
  }
 ],
 "metadata": {
  "colab": {
   "collapsed_sections": [],
   "name": "convolutional_neural_network.ipynb",
   "provenance": [],
   "toc_visible": true
  },
  "kernelspec": {
   "display_name": "Python 3",
   "language": "python",
   "name": "python3"
  },
  "language_info": {
   "codemirror_mode": {
    "name": "ipython",
    "version": 3
   },
   "file_extension": ".py",
   "mimetype": "text/x-python",
   "name": "python",
   "nbconvert_exporter": "python",
   "pygments_lexer": "ipython3",
   "version": "3.6.8"
  }
 },
 "nbformat": 4,
 "nbformat_minor": 1
}
